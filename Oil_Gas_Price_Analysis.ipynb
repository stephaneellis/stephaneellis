{
  "cells": [
    {
      "cell_type": "markdown",
      "metadata": {
        "id": "hVgh5JWkzqW1"
      },
      "source": [
        "##Oil Price Dataset"
      ]
    },
    {
      "cell_type": "code",
      "execution_count": null,
      "metadata": {
        "colab": {
          "base_uri": "https://localhost:8080/"
        },
        "id": "e2fUAaRuzmrb",
        "outputId": "209fb024-4122-4f0e-b2cb-6cc42a459133"
      },
      "outputs": [
        {
          "output_type": "stream",
          "name": "stdout",
          "text": [
            "Populating the interactive namespace from numpy and matplotlib\n",
            "Requirement already satisfied: xlrd in /usr/local/lib/python3.7/dist-packages (1.1.0)\n",
            "Requirement already satisfied: pandas==0.23.4 in /usr/local/lib/python3.7/dist-packages (0.23.4)\n",
            "Requirement already satisfied: python-dateutil>=2.5.0 in /usr/local/lib/python3.7/dist-packages (from pandas==0.23.4) (2.8.2)\n",
            "Requirement already satisfied: numpy>=1.9.0 in /usr/local/lib/python3.7/dist-packages (from pandas==0.23.4) (1.21.5)\n",
            "Requirement already satisfied: pytz>=2011k in /usr/local/lib/python3.7/dist-packages (from pandas==0.23.4) (2018.9)\n",
            "Requirement already satisfied: six>=1.5 in /usr/local/lib/python3.7/dist-packages (from python-dateutil>=2.5.0->pandas==0.23.4) (1.15.0)\n"
          ]
        }
      ],
      "source": [
        "import pandas as pd\n",
        "import numpy as np\n",
        "import matplotlib.pyplot as plt\n",
        "%pylab inline\n",
        "!pip install xlrd\n",
        "!pip install pandas==0.23.4 #new version of pandas needed to read the Excel file correctly"
      ]
    },
    {
      "cell_type": "code",
      "execution_count": null,
      "metadata": {
        "colab": {
          "base_uri": "https://localhost:8080/",
          "height": 142,
          "resources": {
            "http://localhost:8080/nbextensions/google.colab/files.js": {
              "data": "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",
              "headers": [
                [
                  "content-type",
                  "application/javascript"
                ]
              ],
              "ok": true,
              "status": 200,
              "status_text": ""
            }
          }
        },
        "id": "zQjLpF8Nzeb-",
        "outputId": "bc301205-2120-4102-db0d-4128538c9522"
      },
      "outputs": [
        {
          "output_type": "display_data",
          "data": {
            "text/html": [
              "\n",
              "     <input type=\"file\" id=\"files-80528a47-74a6-43ef-a003-90e0e5b713cc\" name=\"files[]\" multiple disabled\n",
              "        style=\"border:none\" />\n",
              "     <output id=\"result-80528a47-74a6-43ef-a003-90e0e5b713cc\">\n",
              "      Upload widget is only available when the cell has been executed in the\n",
              "      current browser session. Please rerun this cell to enable.\n",
              "      </output>\n",
              "      <script src=\"/nbextensions/google.colab/files.js\"></script> "
            ],
            "text/plain": [
              "<IPython.core.display.HTML object>"
            ]
          },
          "metadata": {}
        },
        {
          "output_type": "stream",
          "name": "stdout",
          "text": [
            "Saving RBRTEd.xls to RBRTEd.xls\n",
            "Saving RNGWHHDd.xls to RNGWHHDd.xls\n",
            "Saving RWTCd.xls to RWTCd.xls\n"
          ]
        }
      ],
      "source": [
        "#import excel file from local drive\n",
        "from google.colab import files\n",
        "uploaded = files.upload()"
      ]
    },
    {
      "cell_type": "code",
      "execution_count": null,
      "metadata": {
        "id": "Q5al43YI70EU"
      },
      "outputs": [],
      "source": [
        "brent_p = pd.read_excel('RBRTEd.xls', sheet_name=\"Data 1\", names=['Date', 'Europe Brent Spot Price FOB (Dollars per Barrel)'])\n",
        "wti_p = pd.read_excel('RWTCd.xls', sheet_name=\"Data 1\", names=['Date', 'Cushing, OK WTI Spot Price FOB (Dollars per Barrel)'])\n",
        "gas_p = pd.read_excel('RNGWHHDd.xls', sheet_name=\"Data 1\", names=['Date', 'Henry Hub Natural Gas Spot Price (Dollars per Million Btu)'])"
      ]
    },
    {
      "cell_type": "code",
      "execution_count": null,
      "metadata": {
        "colab": {
          "base_uri": "https://localhost:8080/"
        },
        "id": "S9wHIVZhD8HZ",
        "outputId": "a33d6634-b67b-4838-e7ff-b9ea6a80def8"
      },
      "outputs": [
        {
          "output_type": "stream",
          "name": "stdout",
          "text": [
            "(8828, 2)\n",
            "(9109, 2)\n",
            "(6324, 2)\n"
          ]
        }
      ],
      "source": [
        "#features\n",
        "print(brent_p.shape)\n",
        "print(wti_p.shape)\n",
        "print(gas_p.shape)"
      ]
    },
    {
      "cell_type": "markdown",
      "metadata": {
        "id": "amAg0EbeSEA3"
      },
      "source": [
        "It seems as though the gas price DataFrame contains 6324 days' worth of information. We would like to compare prices over the same period. Therefore, I will drop the first rows of the bigger DataFrames to compare each dataset on the same time frame."
      ]
    },
    {
      "cell_type": "markdown",
      "metadata": {
        "id": "1gQBcNAbScx3"
      },
      "source": [
        "Let's double check the first rows of each DataFrame to see the start date. "
      ]
    },
    {
      "cell_type": "code",
      "execution_count": null,
      "metadata": {
        "colab": {
          "base_uri": "https://localhost:8080/"
        },
        "id": "xb-JcXnfScPj",
        "outputId": "49fafe5c-744a-46c2-f27c-1b637225c4b2"
      },
      "outputs": [
        {
          "output_type": "stream",
          "name": "stdout",
          "text": [
            "                  Date  Europe Brent Spot Price FOB (Dollars per Barrel)\n",
            "0            Sourcekey                                             RBRTE\n",
            "1                 Date  Europe Brent Spot Price FOB (Dollars per Barrel)\n",
            "2  1987-05-20 00:00:00                                             18.63\n",
            "3  1987-05-21 00:00:00                                             18.45\n",
            "4  1987-05-22 00:00:00                                             18.55\n",
            "                  Date Cushing, OK WTI Spot Price FOB (Dollars per Barrel)\n",
            "0            Sourcekey                                               RWTC \n",
            "1                 Date  Cushing, OK WTI Spot Price FOB (Dollars per Ba... \n",
            "2  1986-01-02 00:00:00                                              25.56 \n",
            "3  1986-01-03 00:00:00                                                 26 \n",
            "4  1986-01-06 00:00:00                                              26.53 \n",
            "                  Date Henry Hub Natural Gas Spot Price (Dollars per Million Btu)\n",
            "0            Sourcekey                                            RNGWHHD        \n",
            "1                 Date  Henry Hub Natural Gas Spot Price (Dollars per ...        \n",
            "2  1997-01-07 00:00:00                                               3.82        \n",
            "3  1997-01-08 00:00:00                                                3.8        \n",
            "4  1997-01-09 00:00:00                                               3.61        \n"
          ]
        }
      ],
      "source": [
        "print(brent_p.head())\n",
        "print(wti_p.head())\n",
        "print(gas_p.head())"
      ]
    },
    {
      "cell_type": "markdown",
      "metadata": {
        "id": "GLUa0ilKUG_K"
      },
      "source": [
        "Let's remove all values in the 'Date' column of the dataframes, which contain years between 1986 and 1997 (exclusive)."
      ]
    },
    {
      "cell_type": "markdown",
      "metadata": {
        "id": "bd3IFsD9ZfdW"
      },
      "source": [
        "Before doing so, let's remove the first two rows of all DataFrames as it cointains two string type objects. The function, which will delete the first x number of appropriate datetime objects will return an error for a string. Let's also remove the last row of the gas_p DataFrame."
      ]
    },
    {
      "cell_type": "code",
      "execution_count": null,
      "metadata": {
        "id": "m5m6lm0CZ0cl"
      },
      "outputs": [],
      "source": [
        "gas_p1 = gas_p.drop(6323) #drop last row #6323\n",
        "#drop first 2 rows of every DataFrame\n",
        "gas_p1 = gas_p.iloc[2:]\n",
        "brent_p1 = brent_p.iloc[2:]\n",
        "wti_p1 = wti_p.iloc[2:]\n",
        "#Do not run this code multiple time as it will keep removing the first 2 rows of each newly created DataFrame"
      ]
    },
    {
      "cell_type": "code",
      "execution_count": null,
      "metadata": {
        "id": "D2St60TLiwJL"
      },
      "outputs": [],
      "source": [
        "gas_p1 = gas_p1.drop(6323)\n",
        "print(gas_p1)"
      ]
    },
    {
      "cell_type": "code",
      "execution_count": null,
      "metadata": {
        "id": "oCGl6wfFSUaX"
      },
      "outputs": [],
      "source": [
        "from_ts = pd.to_datetime('1986-01-02 00:00:00') #convert String to datetime type object to compare it with those in the DataFrame gas_p, etc.\n",
        "until_ts = pd.to_datetime('1997-01-07 00:00:00')\n",
        "brent_price = brent_p1[(brent_p1.Date > until_ts)]\n",
        "wti_price = wti_p1[(wti_p1.Date > until_ts)]\n",
        "gas_price = gas_p1[(gas_p1.Date > until_ts)]"
      ]
    },
    {
      "cell_type": "markdown",
      "source": [
        "After dropping the first few thousand rows for the Brent and WTI oil DataFrames, the index should be reset so that the first dates are set at the index zero. Using the reset_index()"
      ],
      "metadata": {
        "id": "i9u55fxhzmlc"
      }
    },
    {
      "cell_type": "code",
      "source": [
        "brent_price.reset_index(drop=True, inplace=True)\n",
        "print(brent_price.head())\n",
        "wti_price.reset_index(drop=True, inplace=True)\n",
        "print(wti_price.head())\n",
        "gas_price.reset_index(drop=True, inplace=True)\n",
        "print(gas_price.head())"
      ],
      "metadata": {
        "colab": {
          "base_uri": "https://localhost:8080/"
        },
        "id": "WJvt-1pAz0Yb",
        "outputId": "7c449751-91d1-4659-e4a8-ba09667be74c"
      },
      "execution_count": null,
      "outputs": [
        {
          "output_type": "stream",
          "name": "stdout",
          "text": [
            "                  Date Europe Brent Spot Price FOB (Dollars per Barrel)\n",
            "0  1997-01-08 00:00:00                                            24.78\n",
            "1  1997-01-09 00:00:00                                            24.83\n",
            "2  1997-01-10 00:00:00                                            24.22\n",
            "3  1997-01-13 00:00:00                                            23.41\n",
            "4  1997-01-15 00:00:00                                            23.31\n",
            "                  Date Cushing, OK WTI Spot Price FOB (Dollars per Barrel)\n",
            "0  1997-01-08 00:00:00                                              26.55 \n",
            "1  1997-01-09 00:00:00                                               26.3 \n",
            "2  1997-01-10 00:00:00                                              26.15 \n",
            "3  1997-01-13 00:00:00                                               25.2 \n",
            "4  1997-01-14 00:00:00                                               25.1 \n",
            "                  Date Henry Hub Natural Gas Spot Price (Dollars per Million Btu)\n",
            "0  1997-01-08 00:00:00                                                3.8        \n",
            "1  1997-01-09 00:00:00                                               3.61        \n",
            "2  1997-01-10 00:00:00                                               3.92        \n",
            "3  1997-01-13 00:00:00                                                  4        \n",
            "4  1997-01-14 00:00:00                                               4.01        \n"
          ]
        }
      ]
    },
    {
      "cell_type": "code",
      "execution_count": null,
      "metadata": {
        "id": "NJ4wqUF8jTIM",
        "colab": {
          "base_uri": "https://localhost:8080/"
        },
        "outputId": "6d744400-c208-4aa7-dac2-d9b070333df9"
      },
      "outputs": [
        {
          "output_type": "stream",
          "name": "stdout",
          "text": [
            "(6320, 2)\n",
            "(6372, 2)\n",
            "(6307, 2)\n",
            "                     Date Brent Spot Price\n",
            "6367  2022-02-16 00:00:00            97.44\n",
            "6368  2022-02-17 00:00:00            95.28\n",
            "6369  2022-02-18 00:00:00            96.18\n",
            "6370  2022-02-21 00:00:00            98.95\n",
            "6371  2022-02-22 00:00:00            98.73\n",
            "                     Date WTI Spot Price\n",
            "6302  2022-02-15 00:00:00          92.07\n",
            "6303  2022-02-16 00:00:00          93.83\n",
            "6304  2022-02-17 00:00:00          91.78\n",
            "6305  2022-02-18 00:00:00          91.26\n",
            "6306  2022-02-22 00:00:00          92.11\n",
            "                     Date Gas Spot Price\n",
            "6315  2022-02-15 00:00:00           4.31\n",
            "6316  2022-02-16 00:00:00           4.39\n",
            "6317  2022-02-17 00:00:00           4.57\n",
            "6318  2022-02-18 00:00:00           4.61\n",
            "6319  2022-02-22 00:00:00           4.48\n"
          ]
        }
      ],
      "source": [
        "print(gas_price.shape)\n",
        "print(brent_price.shape)\n",
        "print(wti_price.shape)\n",
        "#replace columns names \n",
        "brent_price = brent_price.rename(columns={'Europe Brent Spot Price FOB (Dollars per Barrel)': 'Brent Spot Price'})\n",
        "wti_price = wti_price.rename(columns={'Cushing, OK WTI Spot Price FOB (Dollars per Barrel)':'WTI Spot Price'})\n",
        "gas_price = gas_price.rename(columns={'Henry Hub Natural Gas Spot Price (Dollars per Million Btu)':'Gas Spot Price'})\n",
        "\n",
        "print(brent_price.tail())\n",
        "print(wti_price.tail())\n",
        "print(gas_price.tail())"
      ]
    },
    {
      "cell_type": "code",
      "source": [
        "print(wti_price.tail())"
      ],
      "metadata": {
        "colab": {
          "base_uri": "https://localhost:8080/"
        },
        "id": "u1TlGI-woWIE",
        "outputId": "e1aaa620-b341-491a-8b05-b8ac7d877ab8"
      },
      "execution_count": null,
      "outputs": [
        {
          "output_type": "stream",
          "name": "stdout",
          "text": [
            "                     Date WTI Spot Price\n",
            "6302  2022-02-15 00:00:00          92.07\n",
            "6303  2022-02-16 00:00:00          93.83\n",
            "6304  2022-02-17 00:00:00          91.78\n",
            "6305  2022-02-18 00:00:00          91.26\n",
            "6306  2022-02-22 00:00:00          92.11\n"
          ]
        }
      ]
    },
    {
      "cell_type": "markdown",
      "metadata": {
        "id": "jpyWkJPWlI4t"
      },
      "source": [
        "Because of the difference in shape we obtain, let's investigate if there are any null values present in the price of the DataFrames:"
      ]
    },
    {
      "cell_type": "code",
      "execution_count": null,
      "metadata": {
        "colab": {
          "base_uri": "https://localhost:8080/"
        },
        "id": "_2dCBfXUlPRf",
        "outputId": "fc8e0f2e-07be-4bfb-d8c0-0737ffe29108"
      },
      "outputs": [
        {
          "output_type": "execute_result",
          "data": {
            "text/plain": [
              "Date                0\n",
              "Brent Spot Price    0\n",
              "dtype: int64"
            ]
          },
          "metadata": {},
          "execution_count": 12
        }
      ],
      "source": [
        "brent_price.isna().sum()"
      ]
    },
    {
      "cell_type": "code",
      "execution_count": null,
      "metadata": {
        "colab": {
          "base_uri": "https://localhost:8080/"
        },
        "id": "7IFM0d_0lfbk",
        "outputId": "a2681967-2789-479e-fac7-0384d7cceb1b"
      },
      "outputs": [
        {
          "output_type": "execute_result",
          "data": {
            "text/plain": [
              "Date              0\n",
              "Gas Spot Price    1\n",
              "dtype: int64"
            ]
          },
          "metadata": {},
          "execution_count": 13
        }
      ],
      "source": [
        "gas_price.isna().sum()"
      ]
    },
    {
      "cell_type": "code",
      "execution_count": null,
      "metadata": {
        "colab": {
          "base_uri": "https://localhost:8080/"
        },
        "id": "ndbsGZMrlmcN",
        "outputId": "a53240b0-a84f-4f04-fabb-5fd49da85351"
      },
      "outputs": [
        {
          "output_type": "execute_result",
          "data": {
            "text/plain": [
              "Date              0\n",
              "WTI Spot Price    0\n",
              "dtype: int64"
            ]
          },
          "metadata": {},
          "execution_count": 14
        }
      ],
      "source": [
        "wti_price.isna().sum()"
      ]
    },
    {
      "cell_type": "markdown",
      "metadata": {
        "id": "68QVE8ayl7Tv"
      },
      "source": [
        "1 null data is found in the gas_price DataFrame, let's find its location and replace it by using values from neighbouring rows. This is using the fillna() method."
      ]
    },
    {
      "cell_type": "code",
      "execution_count": null,
      "metadata": {
        "colab": {
          "base_uri": "https://localhost:8080/"
        },
        "id": "9-OGxlLemFEp",
        "outputId": "3b74051d-8660-4600-8bac-19a6d9ce58d4"
      },
      "outputs": [
        {
          "output_type": "stream",
          "name": "stdout",
          "text": [
            "                     Date Gas Spot Price\n",
            "5283  2018-01-05 00:00:00            NaN\n"
          ]
        }
      ],
      "source": [
        "print(gas_price[gas_price['Gas Spot Price'].isna()])"
      ]
    },
    {
      "cell_type": "code",
      "execution_count": null,
      "metadata": {
        "id": "EHeKXEY7maO8"
      },
      "outputs": [],
      "source": [
        "gas_price.fillna(method = 'ffill', inplace=True)"
      ]
    },
    {
      "cell_type": "markdown",
      "source": [
        "Check the null value has been replaced correctly by a neighbouring value."
      ],
      "metadata": {
        "id": "nu2mbBJMolco"
      }
    },
    {
      "cell_type": "code",
      "source": [
        "print(gas_price.iloc[5280:5290])"
      ],
      "metadata": {
        "colab": {
          "base_uri": "https://localhost:8080/"
        },
        "id": "bXUZtixkoiwr",
        "outputId": "69e5f31b-d93b-4a21-d87e-9361e45fae53"
      },
      "execution_count": null,
      "outputs": [
        {
          "output_type": "stream",
          "name": "stdout",
          "text": [
            "           Date  Gas Spot Price\n",
            "5280 2018-01-02            6.24\n",
            "5281 2018-01-03            6.24\n",
            "5282 2018-01-04            4.65\n",
            "5283 2018-01-05            4.65\n",
            "5284 2018-01-08            2.89\n",
            "5285 2018-01-09            2.93\n",
            "5286 2018-01-10            3.16\n",
            "5287 2018-01-11            3.16\n",
            "5288 2018-01-12            4.06\n",
            "5289 2018-01-16            5.46\n"
          ]
        }
      ]
    },
    {
      "cell_type": "markdown",
      "source": [
        "I could also check whether any of the columns in each DataFrame contain letters or symbols, such as punctuation characters."
      ],
      "metadata": {
        "id": "tDkAX5yIpz8l"
      }
    },
    {
      "cell_type": "code",
      "source": [
        "import string\n",
        "alphabet = string.ascii_letters+string.punctuation\n",
        "#check if the 'Price' column contains any of these characters\n",
        "#'abcdefghijklmnopqrstuvwxyzABCDEFGHIJKLMNOPQRSTUVWXYZ!\"#$%&\\'()*+,-./:;<=>?@[\\\\]^_`{|}~'\n",
        "\n",
        "a = brent_price['Brent Spot Price'].str.strip(alphabet).astype(bool).any()\n",
        "a"
      ],
      "metadata": {
        "colab": {
          "base_uri": "https://localhost:8080/"
        },
        "id": "Jy7QeuO-p7TX",
        "outputId": "8443b58e-a933-4426-91ba-19997021fd6d"
      },
      "execution_count": null,
      "outputs": [
        {
          "output_type": "execute_result",
          "data": {
            "text/plain": [
              "True"
            ]
          },
          "metadata": {},
          "execution_count": 19
        }
      ]
    },
    {
      "cell_type": "markdown",
      "source": [
        "I am unsure about part above..."
      ],
      "metadata": {
        "id": "gWkppM2hv8Zt"
      }
    },
    {
      "cell_type": "markdown",
      "source": [
        "##Adjusting data for inflation"
      ],
      "metadata": {
        "id": "igMuO99s801S"
      }
    },
    {
      "cell_type": "markdown",
      "source": [
        "Finally, before moving on to plotting and other visualisation techniques, I thought it would be beneficial to adjust the oil and gas prices with inflation. Indeedn, nominal prices can be deceiving, and indeed historical data can be very misleading. Adjusting for inflation can get us radically different looking charts. However, it can also be said that inflation has not been very high since the end of the 1990's in the USA, I still think this could be a worthwhile exercises for the purpose of learning data handling with Python."
      ],
      "metadata": {
        "id": "YK5gyr3x8M3w"
      }
    },
    {
      "cell_type": "markdown",
      "source": [
        "Some variant of CPI is what one would typically to adjust for inflation, as the source for Brent, WTI and gas spot prices are from the United States. "
      ],
      "metadata": {
        "id": "jBBHkkvW9AjB"
      }
    },
    {
      "cell_type": "markdown",
      "source": [
        "Let's load the inflation data"
      ],
      "metadata": {
        "id": "-rIFEfAk9Y4L"
      }
    },
    {
      "cell_type": "code",
      "source": [
        "from google.colab import files\n",
        "uploaded = files.upload()"
      ],
      "metadata": {
        "colab": {
          "resources": {
            "http://localhost:8080/nbextensions/google.colab/files.js": {
              "data": "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",
              "ok": true,
              "headers": [
                [
                  "content-type",
                  "application/javascript"
                ]
              ],
              "status": 200,
              "status_text": ""
            }
          },
          "base_uri": "https://localhost:8080/",
          "height": 73
        },
        "id": "6G_1E7V8-KnE",
        "outputId": "73c55b94-b078-441c-fe84-bd183c16065d"
      },
      "execution_count": null,
      "outputs": [
        {
          "output_type": "display_data",
          "data": {
            "text/html": [
              "\n",
              "     <input type=\"file\" id=\"files-543ded71-c650-4fed-b746-1cfab8bf490b\" name=\"files[]\" multiple disabled\n",
              "        style=\"border:none\" />\n",
              "     <output id=\"result-543ded71-c650-4fed-b746-1cfab8bf490b\">\n",
              "      Upload widget is only available when the cell has been executed in the\n",
              "      current browser session. Please rerun this cell to enable.\n",
              "      </output>\n",
              "      <script src=\"/nbextensions/google.colab/files.js\"></script> "
            ],
            "text/plain": [
              "<IPython.core.display.HTML object>"
            ]
          },
          "metadata": {}
        },
        {
          "output_type": "stream",
          "name": "stdout",
          "text": [
            "Saving CPIAUCNS.csv to CPIAUCNS.csv\n"
          ]
        }
      ]
    },
    {
      "cell_type": "code",
      "source": [
        "inflation = pd.read_csv(\"CPIAUCNS.csv\")"
      ],
      "metadata": {
        "id": "Wqybv6ep83dO"
      },
      "execution_count": null,
      "outputs": []
    },
    {
      "cell_type": "code",
      "source": [
        "print(inflation.tail())"
      ],
      "metadata": {
        "colab": {
          "base_uri": "https://localhost:8080/"
        },
        "id": "GZnWpQBC-ZEb",
        "outputId": "6e005584-a20f-46f3-c150-ff6d77ac92a6"
      },
      "execution_count": null,
      "outputs": [
        {
          "output_type": "stream",
          "name": "stdout",
          "text": [
            "           DATE  CPIAUCNS\n",
            "296  2021-09-01   274.310\n",
            "297  2021-10-01   276.589\n",
            "298  2021-11-01   277.948\n",
            "299  2021-12-01   278.802\n",
            "300  2022-01-01   281.148\n"
          ]
        }
      ]
    },
    {
      "cell_type": "markdown",
      "source": [
        "I will be using the last data value of the CPI data to create the index multiplier. The commodities prices will be indexed to today's prices. Also note that the CPI data is monthly, but the three DataFrames give daily prices. I will therefore repeat each CPI datapoint for the entire month."
      ],
      "metadata": {
        "id": "1--8ldRO-kxN"
      }
    },
    {
      "cell_type": "code",
      "source": [
        "#create the multiplier index\n",
        "inflation['CPI_Multiplier'] = inflation['CPIAUCNS'].iloc[-1] / inflation['CPIAUCNS'] #last CPI divided by every CPI datapoint"
      ],
      "metadata": {
        "id": "FbZhZlbx_A60"
      },
      "execution_count": null,
      "outputs": []
    },
    {
      "cell_type": "code",
      "source": [
        "inflation.tail()"
      ],
      "metadata": {
        "colab": {
          "base_uri": "https://localhost:8080/",
          "height": 206
        },
        "id": "4TaLGGCi_Ulu",
        "outputId": "e1cbd172-d9a1-4aec-ff88-72ca38f72727"
      },
      "execution_count": null,
      "outputs": [
        {
          "output_type": "execute_result",
          "data": {
            "text/html": [
              "\n",
              "  <div id=\"df-c33c6024-342d-440a-85df-dfa47c429fe1\">\n",
              "    <div class=\"colab-df-container\">\n",
              "      <div>\n",
              "<style scoped>\n",
              "    .dataframe tbody tr th:only-of-type {\n",
              "        vertical-align: middle;\n",
              "    }\n",
              "\n",
              "    .dataframe tbody tr th {\n",
              "        vertical-align: top;\n",
              "    }\n",
              "\n",
              "    .dataframe thead th {\n",
              "        text-align: right;\n",
              "    }\n",
              "</style>\n",
              "<table border=\"1\" class=\"dataframe\">\n",
              "  <thead>\n",
              "    <tr style=\"text-align: right;\">\n",
              "      <th></th>\n",
              "      <th>DATE</th>\n",
              "      <th>CPIAUCNS</th>\n",
              "      <th>CPI_Multiplier</th>\n",
              "    </tr>\n",
              "  </thead>\n",
              "  <tbody>\n",
              "    <tr>\n",
              "      <th>296</th>\n",
              "      <td>2021-09-01</td>\n",
              "      <td>274.310</td>\n",
              "      <td>1.024928</td>\n",
              "    </tr>\n",
              "    <tr>\n",
              "      <th>297</th>\n",
              "      <td>2021-10-01</td>\n",
              "      <td>276.589</td>\n",
              "      <td>1.016483</td>\n",
              "    </tr>\n",
              "    <tr>\n",
              "      <th>298</th>\n",
              "      <td>2021-11-01</td>\n",
              "      <td>277.948</td>\n",
              "      <td>1.011513</td>\n",
              "    </tr>\n",
              "    <tr>\n",
              "      <th>299</th>\n",
              "      <td>2021-12-01</td>\n",
              "      <td>278.802</td>\n",
              "      <td>1.008415</td>\n",
              "    </tr>\n",
              "    <tr>\n",
              "      <th>300</th>\n",
              "      <td>2022-01-01</td>\n",
              "      <td>281.148</td>\n",
              "      <td>1.000000</td>\n",
              "    </tr>\n",
              "  </tbody>\n",
              "</table>\n",
              "</div>\n",
              "      <button class=\"colab-df-convert\" onclick=\"convertToInteractive('df-c33c6024-342d-440a-85df-dfa47c429fe1')\"\n",
              "              title=\"Convert this dataframe to an interactive table.\"\n",
              "              style=\"display:none;\">\n",
              "        \n",
              "  <svg xmlns=\"http://www.w3.org/2000/svg\" height=\"24px\"viewBox=\"0 0 24 24\"\n",
              "       width=\"24px\">\n",
              "    <path d=\"M0 0h24v24H0V0z\" fill=\"none\"/>\n",
              "    <path d=\"M18.56 5.44l.94 2.06.94-2.06 2.06-.94-2.06-.94-.94-2.06-.94 2.06-2.06.94zm-11 1L8.5 8.5l.94-2.06 2.06-.94-2.06-.94L8.5 2.5l-.94 2.06-2.06.94zm10 10l.94 2.06.94-2.06 2.06-.94-2.06-.94-.94-2.06-.94 2.06-2.06.94z\"/><path d=\"M17.41 7.96l-1.37-1.37c-.4-.4-.92-.59-1.43-.59-.52 0-1.04.2-1.43.59L10.3 9.45l-7.72 7.72c-.78.78-.78 2.05 0 2.83L4 21.41c.39.39.9.59 1.41.59.51 0 1.02-.2 1.41-.59l7.78-7.78 2.81-2.81c.8-.78.8-2.07 0-2.86zM5.41 20L4 18.59l7.72-7.72 1.47 1.35L5.41 20z\"/>\n",
              "  </svg>\n",
              "      </button>\n",
              "      \n",
              "  <style>\n",
              "    .colab-df-container {\n",
              "      display:flex;\n",
              "      flex-wrap:wrap;\n",
              "      gap: 12px;\n",
              "    }\n",
              "\n",
              "    .colab-df-convert {\n",
              "      background-color: #E8F0FE;\n",
              "      border: none;\n",
              "      border-radius: 50%;\n",
              "      cursor: pointer;\n",
              "      display: none;\n",
              "      fill: #1967D2;\n",
              "      height: 32px;\n",
              "      padding: 0 0 0 0;\n",
              "      width: 32px;\n",
              "    }\n",
              "\n",
              "    .colab-df-convert:hover {\n",
              "      background-color: #E2EBFA;\n",
              "      box-shadow: 0px 1px 2px rgba(60, 64, 67, 0.3), 0px 1px 3px 1px rgba(60, 64, 67, 0.15);\n",
              "      fill: #174EA6;\n",
              "    }\n",
              "\n",
              "    [theme=dark] .colab-df-convert {\n",
              "      background-color: #3B4455;\n",
              "      fill: #D2E3FC;\n",
              "    }\n",
              "\n",
              "    [theme=dark] .colab-df-convert:hover {\n",
              "      background-color: #434B5C;\n",
              "      box-shadow: 0px 1px 3px 1px rgba(0, 0, 0, 0.15);\n",
              "      filter: drop-shadow(0px 1px 2px rgba(0, 0, 0, 0.3));\n",
              "      fill: #FFFFFF;\n",
              "    }\n",
              "  </style>\n",
              "\n",
              "      <script>\n",
              "        const buttonEl =\n",
              "          document.querySelector('#df-c33c6024-342d-440a-85df-dfa47c429fe1 button.colab-df-convert');\n",
              "        buttonEl.style.display =\n",
              "          google.colab.kernel.accessAllowed ? 'block' : 'none';\n",
              "\n",
              "        async function convertToInteractive(key) {\n",
              "          const element = document.querySelector('#df-c33c6024-342d-440a-85df-dfa47c429fe1');\n",
              "          const dataTable =\n",
              "            await google.colab.kernel.invokeFunction('convertToInteractive',\n",
              "                                                     [key], {});\n",
              "          if (!dataTable) return;\n",
              "\n",
              "          const docLinkHtml = 'Like what you see? Visit the ' +\n",
              "            '<a target=\"_blank\" href=https://colab.research.google.com/notebooks/data_table.ipynb>data table notebook</a>'\n",
              "            + ' to learn more about interactive tables.';\n",
              "          element.innerHTML = '';\n",
              "          dataTable['output_type'] = 'display_data';\n",
              "          await google.colab.output.renderOutput(dataTable, element);\n",
              "          const docLink = document.createElement('div');\n",
              "          docLink.innerHTML = docLinkHtml;\n",
              "          element.appendChild(docLink);\n",
              "        }\n",
              "      </script>\n",
              "    </div>\n",
              "  </div>\n",
              "  "
            ],
            "text/plain": [
              "           DATE  CPIAUCNS  CPI_Multiplier\n",
              "296  2021-09-01   274.310        1.024928\n",
              "297  2021-10-01   276.589        1.016483\n",
              "298  2021-11-01   277.948        1.011513\n",
              "299  2021-12-01   278.802        1.008415\n",
              "300  2022-01-01   281.148        1.000000"
            ]
          },
          "metadata": {},
          "execution_count": 26
        }
      ]
    },
    {
      "cell_type": "markdown",
      "source": [
        "Now, it is import to handle dates in the CPI data set, 'inflation'. Indeed, the CPI data is given in months as opposed to days for Brent, WTI and Gas spot prices."
      ],
      "metadata": {
        "id": "VtzfLalU_fPb"
      }
    },
    {
      "cell_type": "code",
      "source": [
        "#check type of the DATE column of CPI data file\n",
        "print(type(inflation.iloc[0,0]))\n",
        "#check type of the DATE column of brent, wti or gas price\n",
        "print(type(wti_price.iloc[0,0]))\n",
        "print(gas_price.shape)"
      ],
      "metadata": {
        "colab": {
          "base_uri": "https://localhost:8080/"
        },
        "id": "oTosHpPN_qiC",
        "outputId": "a49b6aa7-9f2e-4553-8117-0f8237f16a92"
      },
      "execution_count": null,
      "outputs": [
        {
          "output_type": "stream",
          "name": "stdout",
          "text": [
            "<class 'str'>\n",
            "<class 'pandas._libs.tslibs.timestamps.Timestamp'>\n",
            "(6320, 2)\n"
          ]
        }
      ]
    },
    {
      "cell_type": "markdown",
      "source": [
        "Each date given in the CPI data (inflation) is a string. The dates in the prices DataFrames are already in the right format. These strings are in the format 'YYYY/MM/DD', which needs to be converted into a Pandas datetime format. "
      ],
      "metadata": {
        "id": "bs8W8iq2CkNG"
      }
    },
    {
      "cell_type": "code",
      "source": [
        "#change the type of objects contained in the DATE column of inflation\n",
        "inflation.DATE = pd.to_datetime(inflation.DATE)\n",
        "print(type(inflation.iloc[0,0]))"
      ],
      "metadata": {
        "colab": {
          "base_uri": "https://localhost:8080/"
        },
        "id": "slMKKMYjQZRO",
        "outputId": "33d171c1-6e23-4163-aa9c-499f2f90bfb8"
      },
      "execution_count": null,
      "outputs": [
        {
          "output_type": "stream",
          "name": "stdout",
          "text": [
            "<class 'pandas._libs.tslibs.timestamps.Timestamp'>\n"
          ]
        }
      ]
    },
    {
      "cell_type": "markdown",
      "source": [
        "If the date on 'brent_price' file corresponds to the month represented by the DATE column in 'inflation' file, then multiply the corresponding CPI figure by every oil/gas price in that same month of the same year."
      ],
      "metadata": {
        "id": "zwFdTS0W5s8T"
      }
    },
    {
      "cell_type": "code",
      "source": [
        "for i in range(len( brent_price.index)):\n",
        "  for j in range(len(inflation.index)):\n",
        "    if (brent_price.iloc[i,0].month == inflation.iloc[j,0].month and brent_price.iloc[i,0].year == inflation.iloc[j,0].year ):\n",
        "      brent_price.iloc[i,2] = brent_price.iloc[i,1] * inflation.iloc[j,2]"
      ],
      "metadata": {
        "id": "sa0bVZZY55DP"
      },
      "execution_count": null,
      "outputs": []
    },
    {
      "cell_type": "code",
      "source": [
        "#check the rows match each other\n",
        "print(brent_price['Brent Spot Price'], brent_price['Adjusted Brent Spot Price'])"
      ],
      "metadata": {
        "id": "WxXRUZtRBrQQ"
      },
      "execution_count": null,
      "outputs": []
    },
    {
      "cell_type": "markdown",
      "source": [
        "Because the CPI data is not yet available for the month of February, the data output in 'Adjusted Brent Spot Price' is dropped for ease."
      ],
      "metadata": {
        "id": "ifv-kShCI7Xx"
      }
    },
    {
      "cell_type": "code",
      "source": [
        "from_ts = pd.to_datetime('2022-02-01 00:00:00') #drop data points in all DataFrames after Feb 22 (including not yet adjusted WTI + Gas Spot Prices)\n",
        "brent_price = brent_price[(brent_price.Date < from_ts)]\n",
        "wti_price = wti_price[(wti_price.Date < from_ts)]\n",
        "gas_price = gas_price[(gas_price.Date < from_ts)]"
      ],
      "metadata": {
        "id": "SyF_sj0n0Imk"
      },
      "execution_count": null,
      "outputs": []
    },
    {
      "cell_type": "markdown",
      "source": [
        "Repeat the adjustment for inflation for WTI Spot Prices"
      ],
      "metadata": {
        "id": "5U36FzSdKJNR"
      }
    },
    {
      "cell_type": "code",
      "source": [
        "#create empty column in wti_price\n",
        "wti_price['Adjusted WTI Spot Price'] = \"\""
      ],
      "metadata": {
        "id": "2OgQcxbZReDy"
      },
      "execution_count": null,
      "outputs": []
    },
    {
      "cell_type": "code",
      "source": [
        "for i in range(len(wti_price.index)):\n",
        "  for j in range(len(inflation.index)):\n",
        "    if (wti_price.iloc[i,0].month == inflation.iloc[j,0].month and wti_price.iloc[i,0].year == inflation.iloc[j,0].year ):\n",
        "      wti_price.iloc[i,2] = wti_price.iloc[i,1] * inflation.iloc[j,2]"
      ],
      "metadata": {
        "id": "-rq1D_xKPuQW"
      },
      "execution_count": null,
      "outputs": []
    },
    {
      "cell_type": "markdown",
      "source": [
        "Repeat the adjustment for inflation for Gas Spot Prices"
      ],
      "metadata": {
        "id": "DR0KDlaXShUp"
      }
    },
    {
      "cell_type": "code",
      "source": [
        "#create empty column in gas_price\n",
        "gas_price['Adjusted Gas Spot Price'] = \"\""
      ],
      "metadata": {
        "id": "ZiPwrPZlR4jS"
      },
      "execution_count": null,
      "outputs": []
    },
    {
      "cell_type": "code",
      "source": [
        "for i in range(len(gas_price.index)):\n",
        "  for j in range(len(inflation.index)):\n",
        "    if (gas_price.iloc[i,0].month == inflation.iloc[j,0].month and gas_price.iloc[i,0].year == inflation.iloc[j,0].year ):\n",
        "      gas_price.iloc[i,2] = gas_price.iloc[i,1] * inflation.iloc[j,2]"
      ],
      "metadata": {
        "id": "xW5fzdqbQTWU"
      },
      "execution_count": null,
      "outputs": []
    },
    {
      "cell_type": "markdown",
      "source": [
        "Let's now check whether the data is correctly calculated...\n",
        "\n",
        "The latest price point should be equal to each other in the Adjusted-to-inflation and Non-adjusted cases.\n",
        "\n",
        "In addition, the first price points should be related by a multiplier of the first CPI_Multiplier in the 'inflation' DataFrame."
      ],
      "metadata": {
        "id": "Az9-drn4S3DP"
      }
    },
    {
      "cell_type": "code",
      "source": [
        "#are adjusted vs. non-adjusted prices the same on the last day\n",
        "print(brent_price.iloc[-1,2] == brent_price.iloc[-1,1])\n",
        "print(wti_price.iloc[-1,2] == wti_price.iloc[-1,1])\n",
        "print(gas_price.iloc[-1,2] == gas_price.iloc[-1,1])"
      ],
      "metadata": {
        "colab": {
          "base_uri": "https://localhost:8080/"
        },
        "id": "Z2jEFB18TSls",
        "outputId": "4d879a06-25f5-4b62-fd99-2c61c2a86b81"
      },
      "execution_count": null,
      "outputs": [
        {
          "output_type": "stream",
          "name": "stdout",
          "text": [
            "True\n",
            "True\n",
            "True\n"
          ]
        }
      ]
    },
    {
      "cell_type": "markdown",
      "source": [
        "##Plot:"
      ],
      "metadata": {
        "id": "kuJAeHsJv_QO"
      }
    },
    {
      "cell_type": "markdown",
      "source": [
        "We will now plot oil/gas prices both Adjusted vs. Non-Adjusted for inflation"
      ],
      "metadata": {
        "id": "e4HiaOK9T4fj"
      }
    },
    {
      "cell_type": "code",
      "source": [
        "plt.plot(brent_price['Brent Spot Price'], color='blue')\n",
        "plt.plot(brent_price['Adjusted Brent Spot Price'], color='orange')"
      ],
      "metadata": {
        "colab": {
          "base_uri": "https://localhost:8080/",
          "height": 282
        },
        "id": "dkTr11flv-ZK",
        "outputId": "95c94d7b-931f-4b13-81fc-98063102776b"
      },
      "execution_count": null,
      "outputs": [
        {
          "output_type": "execute_result",
          "data": {
            "text/plain": [
              "[<matplotlib.lines.Line2D at 0x7f8df4b76050>]"
            ]
          },
          "metadata": {},
          "execution_count": 90
        },
        {
          "output_type": "display_data",
          "data": {
            "image/png": "[encoded data removed]",
            "text/plain": [
              "<Figure size 432x288 with 1 Axes>"
            ]
          },
          "metadata": {
            "needs_background": "light"
          }
        }
      ]
    },
    {
      "cell_type": "code",
      "source": [
        "plt.plot(wti_price['WTI Spot Price'])\n",
        "plt.plot(wti_price['Adjusted WTI Spot Price'], color='orange')"
      ],
      "metadata": {
        "colab": {
          "base_uri": "https://localhost:8080/",
          "height": 282
        },
        "id": "H_BF8RLDwRtL",
        "outputId": "b4917750-1b0d-4e3c-8687-9e27f78273f3"
      },
      "execution_count": null,
      "outputs": [
        {
          "output_type": "execute_result",
          "data": {
            "text/plain": [
              "[<matplotlib.lines.Line2D at 0x7f8df4adfd10>]"
            ]
          },
          "metadata": {},
          "execution_count": 91
        },
        {
          "output_type": "display_data",
          "data": {
            "image/png": "[encoded data removed]",
            "text/plain": [
              "<Figure size 432x288 with 1 Axes>"
            ]
          },
          "metadata": {
            "needs_background": "light"
          }
        }
      ]
    },
    {
      "cell_type": "code",
      "source": [
        "plt.plot(gas_price['Gas Spot Price'])\n",
        "plt.plot(gas_price['Adjusted Gas Spot Price'], color='orange')"
      ],
      "metadata": {
        "colab": {
          "base_uri": "https://localhost:8080/",
          "height": 282
        },
        "id": "tKR8bLzCwYFG",
        "outputId": "535449fa-28a5-448f-e0f6-4464d512fa43"
      },
      "execution_count": null,
      "outputs": [
        {
          "output_type": "execute_result",
          "data": {
            "text/plain": [
              "[<matplotlib.lines.Line2D at 0x7f8df4a58090>]"
            ]
          },
          "metadata": {},
          "execution_count": 92
        },
        {
          "output_type": "display_data",
          "data": {
            "image/png": "[encoded data removed]",
            "text/plain": [
              "<Figure size 432x288 with 1 Axes>"
            ]
          },
          "metadata": {
            "needs_background": "light"
          }
        }
      ]
    },
    {
      "cell_type": "markdown",
      "source": [
        "##Histogram:"
      ],
      "metadata": {
        "id": "YcclS0ckwiIA"
      }
    },
    {
      "cell_type": "markdown",
      "source": [
        "The Histogram shows a certain price on the x-axis and a corresponding, ordered list of frequencies."
      ],
      "metadata": {
        "id": "F-2fPeqs4qG0"
      }
    },
    {
      "cell_type": "code",
      "source": [
        "hist(brent_price['Adjusted Brent Spot Price'], bins=100); #where bins defines the number of equal-width bins in the range"
      ],
      "metadata": {
        "colab": {
          "base_uri": "https://localhost:8080/",
          "height": 269
        },
        "id": "yE6PYgdkwmAd",
        "outputId": "13fb5d01-0b09-47fc-a56b-b719b15ae4ae"
      },
      "execution_count": null,
      "outputs": [
        {
          "output_type": "display_data",
          "data": {
            "image/png": "[encoded data removed]",
            "text/plain": [
              "<Figure size 432x288 with 1 Axes>"
            ]
          },
          "metadata": {
            "needs_background": "light"
          }
        }
      ]
    },
    {
      "cell_type": "code",
      "source": [
        "hist(wti_price['Adjusted WTI Spot Price'], bins=100);"
      ],
      "metadata": {
        "colab": {
          "base_uri": "https://localhost:8080/",
          "height": 265
        },
        "id": "dWYqVCc0x3Zk",
        "outputId": "1dc4e387-1bc1-4451-9c01-653dbb5d336d"
      },
      "execution_count": null,
      "outputs": [
        {
          "output_type": "display_data",
          "data": {
            "image/png": "[encoded data removed]",
            "text/plain": [
              "<Figure size 432x288 with 1 Axes>"
            ]
          },
          "metadata": {
            "needs_background": "light"
          }
        }
      ]
    },
    {
      "cell_type": "code",
      "source": [
        "hist(gas_price['Adjusted Gas Spot Price'], bins=100);"
      ],
      "metadata": {
        "colab": {
          "base_uri": "https://localhost:8080/",
          "height": 265
        },
        "id": "UbYlKEYcyiLp",
        "outputId": "967d3ed5-a4c6-47db-802c-30753e6b0eb6"
      },
      "execution_count": null,
      "outputs": [
        {
          "output_type": "display_data",
          "data": {
            "image/png": "[encoded data removed]",
            "text/plain": [
              "<Figure size 432x288 with 1 Axes>"
            ]
          },
          "metadata": {
            "needs_background": "light"
          }
        }
      ]
    },
    {
      "cell_type": "markdown",
      "source": [
        "The negative value on the WTI's price histogram represents the negative price as a result of the flash crash caused by COVID supply & storage issues in 2020."
      ],
      "metadata": {
        "id": "DDhsO8EA4MY4"
      }
    },
    {
      "cell_type": "code",
      "source": [
        "#plot Brent and WTI oil prices on the same histogram in different colours to compare them.\n",
        "hist(brent_price['Adjusted Brent Spot Price'], bins=100); hist(wti_price['Adjusted WTI Spot Price'], bins=100);"
      ],
      "metadata": {
        "colab": {
          "base_uri": "https://localhost:8080/",
          "height": 265
        },
        "id": "05bE36BO4hLQ",
        "outputId": "7a30a637-b9b6-4e4f-814e-18d398a6abeb"
      },
      "execution_count": null,
      "outputs": [
        {
          "output_type": "display_data",
          "data": {
            "image/png": "[encoded data removed]",
            "text/plain": [
              "<Figure size 432x288 with 1 Axes>"
            ]
          },
          "metadata": {
            "needs_background": "light"
          }
        }
      ]
    },
    {
      "cell_type": "markdown",
      "source": [
        "Let's now create histograms representing the Daily Percentage Changes (Brent, WTI, gas prices)"
      ],
      "metadata": {
        "id": "pDa4N-WU5Qcg"
      }
    },
    {
      "cell_type": "markdown",
      "source": [
        "Because there is a small number of extreme daily percent changes, the x axis is overextended for the purpose of our visualisation methods. This can be seen below on the Brent Oil histogram. Therefore, I will crop the histograms to show more relevant information in greater detail."
      ],
      "metadata": {
        "id": "EcgkzNPO7jhc"
      }
    },
    {
      "cell_type": "code",
      "source": [
        "perc_brent = brent_price['Adjusted Brent Spot Price'].pct_change()\n",
        "perc_brent.hist(bins=100)\n",
        "\n",
        "#perc_brent = brent_price['Brent Spot Price'].pct_change()\n",
        "#hist(perc_brent, bins=100); but this does not produce the same vertical and ho"
      ],
      "metadata": {
        "colab": {
          "base_uri": "https://localhost:8080/",
          "height": 282
        },
        "id": "p06DtU3H5ipm",
        "outputId": "3111aca7-c14e-45c0-a348-74fe1b0aaa9c"
      },
      "execution_count": null,
      "outputs": [
        {
          "output_type": "execute_result",
          "data": {
            "text/plain": [
              "<matplotlib.axes._subplots.AxesSubplot at 0x7f8df49e72d0>"
            ]
          },
          "metadata": {},
          "execution_count": 97
        },
        {
          "output_type": "display_data",
          "data": {
            "image/png": "[encoded data removed]",
            "text/plain": [
              "<Figure size 432x288 with 1 Axes>"
            ]
          },
          "metadata": {
            "needs_background": "light"
          }
        }
      ]
    },
    {
      "cell_type": "markdown",
      "source": [
        "It is now easy to see where the inspiration for the Dubai Burj Khalifa Tower's design came from..!"
      ],
      "metadata": {
        "id": "66qAgVSD6azn"
      }
    },
    {
      "cell_type": "code",
      "source": [
        "perc_wti = wti_price['Adjusted WTI Spot Price'].pct_change()\n",
        "perc_wti.hist(bins=100)"
      ],
      "metadata": {
        "colab": {
          "base_uri": "https://localhost:8080/",
          "height": 282
        },
        "id": "SFOpVWrf6Fpt",
        "outputId": "a28250d4-c1f2-4b88-84c2-4de60c7fe85a"
      },
      "execution_count": null,
      "outputs": [
        {
          "output_type": "execute_result",
          "data": {
            "text/plain": [
              "<matplotlib.axes._subplots.AxesSubplot at 0x7f8df48ff290>"
            ]
          },
          "metadata": {},
          "execution_count": 102
        },
        {
          "output_type": "display_data",
          "data": {
            "image/png": "[encoded data removed]",
            "text/plain": [
              "<Figure size 432x288 with 1 Axes>"
            ]
          },
          "metadata": {
            "needs_background": "light"
          }
        }
      ]
    },
    {
      "cell_type": "code",
      "source": [
        "perc_gas = gas_price['Adjusted Gas Spot Price'].pct_change()\n",
        "perc_gas.hist(bins=100)"
      ],
      "metadata": {
        "colab": {
          "base_uri": "https://localhost:8080/",
          "height": 282
        },
        "id": "q_VI7wBx7akd",
        "outputId": "c7f11da2-c309-455a-bda5-8f21692afd72"
      },
      "execution_count": null,
      "outputs": [
        {
          "output_type": "execute_result",
          "data": {
            "text/plain": [
              "<matplotlib.axes._subplots.AxesSubplot at 0x7f8df3f7cb10>"
            ]
          },
          "metadata": {},
          "execution_count": 104
        },
        {
          "output_type": "display_data",
          "data": {
            "image/png": "[encoded data removed]",
            "text/plain": [
              "<Figure size 432x288 with 1 Axes>"
            ]
          },
          "metadata": {
            "needs_background": "light"
          }
        }
      ]
    },
    {
      "cell_type": "markdown",
      "source": [
        "We can zoom into the histogram in order to see the daily + or - 5% changes in Brent, WTI or gas prices"
      ],
      "metadata": {
        "id": "syDHuKg5WkdN"
      }
    },
    {
      "cell_type": "code",
      "source": [
        "perc_brent.hist(bins=100, range=(-0.05, 0.05))"
      ],
      "metadata": {
        "colab": {
          "base_uri": "https://localhost:8080/",
          "height": 282
        },
        "id": "4ZExEPofW5eq",
        "outputId": "2206f77d-5c87-4c26-e8f2-dff574e05adc"
      },
      "execution_count": null,
      "outputs": [
        {
          "output_type": "execute_result",
          "data": {
            "text/plain": [
              "<matplotlib.axes._subplots.AxesSubplot at 0x7f8df3d89510>"
            ]
          },
          "metadata": {},
          "execution_count": 105
        },
        {
          "output_type": "display_data",
          "data": {
            "image/png": "[encoded data removed]",
            "text/plain": [
              "<Figure size 432x288 with 1 Axes>"
            ]
          },
          "metadata": {
            "needs_background": "light"
          }
        }
      ]
    },
    {
      "cell_type": "code",
      "source": [
        "perc_wti.hist(bins=100, range=(-0.05, 0.05))"
      ],
      "metadata": {
        "colab": {
          "base_uri": "https://localhost:8080/",
          "height": 282
        },
        "id": "O40eFNmlXYoB",
        "outputId": "65553b82-1a1d-4e97-cf14-7a5c6370be90"
      },
      "execution_count": null,
      "outputs": [
        {
          "output_type": "execute_result",
          "data": {
            "text/plain": [
              "<matplotlib.axes._subplots.AxesSubplot at 0x7f8df3c01d10>"
            ]
          },
          "metadata": {},
          "execution_count": 106
        },
        {
          "output_type": "display_data",
          "data": {
            "image/png": "[encoded data removed]",
            "text/plain": [
              "<Figure size 432x288 with 1 Axes>"
            ]
          },
          "metadata": {
            "needs_background": "light"
          }
        }
      ]
    },
    {
      "cell_type": "code",
      "source": [
        "perc_gas.hist(bins=100, range=(-0.05, 0.05))"
      ],
      "metadata": {
        "colab": {
          "base_uri": "https://localhost:8080/",
          "height": 282
        },
        "id": "d773gR267y9X",
        "outputId": "3ce4c5f6-3e37-4567-ccc3-8805ea749d9e"
      },
      "execution_count": null,
      "outputs": [
        {
          "output_type": "execute_result",
          "data": {
            "text/plain": [
              "<matplotlib.axes._subplots.AxesSubplot at 0x7f8df4066f10>"
            ]
          },
          "metadata": {},
          "execution_count": 107
        },
        {
          "output_type": "display_data",
          "data": {
            "image/png": "[encoded data removed]",
            "text/plain": [
              "<Figure size 432x288 with 1 Axes>"
            ]
          },
          "metadata": {
            "needs_background": "light"
          }
        }
      ]
    },
    {
      "cell_type": "markdown",
      "source": [
        "##Probabilites of extreme changes in oil/gas prices"
      ],
      "metadata": {
        "id": "KMMjuecbYgxq"
      }
    },
    {
      "cell_type": "code",
      "source": [
        ""
      ],
      "metadata": {
        "id": "xWH7beEgYkuL"
      },
      "execution_count": null,
      "outputs": []
    }
  ],
  "metadata": {
    "colab": {
      "collapsed_sections": [],
      "name": "Oil-Gas-Price-Analysis",
      "provenance": []
    },
    "kernelspec": {
      "display_name": "Python 3",
      "name": "python3"
    },
    "language_info": {
      "name": "python"
    }
  },
  "nbformat": 4,
  "nbformat_minor": 0
}